{
 "cells": [
  {
   "cell_type": "code",
   "execution_count": 21,
   "metadata": {
    "colab": {
     "base_uri": "https://localhost:8080/",
     "height": 35
    },
    "id": "xxbW4OliHlcF",
    "outputId": "22a6a32f-9976-4f04-99e5-bb580ec89f67",
    "ExecuteTime": {
     "end_time": "2023-07-29T07:39:37.100629800Z",
     "start_time": "2023-07-29T07:39:37.084202500Z"
    }
   },
   "outputs": [
    {
     "data": {
      "text/plain": "'22241838'"
     },
     "execution_count": 21,
     "metadata": {},
     "output_type": "execute_result"
    }
   ],
   "source": [
    "file1 = open('F://Summer 23/CSE422/Labs/Lab3/id.txt','r')\n",
    "\n",
    "file1 = file1.read()\n",
    "file1 = file1.strip()\n",
    "file1.replace('0','8')"
   ]
  },
  {
   "cell_type": "code",
   "execution_count": 20,
   "outputs": [],
   "source": [],
   "metadata": {
    "collapsed": false,
    "ExecuteTime": {
     "end_time": "2023-07-29T07:39:02.656120100Z",
     "start_time": "2023-07-29T07:39:02.639116400Z"
    }
   }
  },
  {
   "cell_type": "code",
   "execution_count": 22,
   "metadata": {
    "colab": {
     "base_uri": "https://localhost:8080/"
    },
    "id": "WbUzLTl5H3oM",
    "outputId": "6f07dc69-b3e5-4ef9-99ab-21b4becfde50",
    "ExecuteTime": {
     "end_time": "2023-07-29T07:40:12.979854600Z",
     "start_time": "2023-07-29T07:40:12.958853Z"
    }
   },
   "outputs": [
    {
     "name": "stdout",
     "output_type": "stream",
     "text": [
      "Generated 8 random points between the minimum and maximum point limits:\n",
      " [3, 40, 62, 43, 6, 107, 82, 19]\n",
      "Total points to win: 83\n"
     ]
    }
   ],
   "source": [
    "import random\n",
    "import math\n",
    "\n",
    "id_no = file1[-1]+file1[-2]\n",
    "maxx = math.ceil(int(id_no)*1.5)\n",
    "minn = int(file1[4])\n",
    "winscore = int(id_no)\n",
    "shuffle = int(file1[3])\n",
    "\n",
    "rand = []\n",
    "for i in range(8):\n",
    "    rand.append(random.randint(minn,maxx))\n",
    "print(\"Generated 8 random points between the minimum and maximum point limits:\\n\",rand)\n",
    "print(\"Total points to win:\", winscore)"
   ]
  },
  {
   "cell_type": "code",
   "execution_count": 23,
   "metadata": {
    "id": "9B7yam9GIqGE",
    "ExecuteTime": {
     "end_time": "2023-07-29T07:40:15.878568400Z",
     "start_time": "2023-07-29T07:40:15.866551700Z"
    }
   },
   "outputs": [],
   "source": [
    "alpha = 999999\n",
    "beta = -999999\n",
    "\n",
    "def a_b_prune(depth, ind, player, values, a, b):\n",
    "    if depth == 3:\n",
    "        return values[ind]\n",
    "    if player:\n",
    "        best = beta\n",
    "\n",
    "        for i in range(0, 2):\n",
    "\n",
    "            val = a_b_prune(depth + 1, ind * 2 + i, False, values, a, b)\n",
    "            best = max(best, val)\n",
    "            a = max([a, best])\n",
    "\n",
    "            if b <= a:\n",
    "                break\n",
    "\n",
    "        return best\n",
    "    else:\n",
    "        best = alpha\n",
    "\n",
    "        for i in range(0, 2):\n",
    "\n",
    "            val = a_b_prune(depth + 1, ind * 2 + i, True, values, a, b)\n",
    "            best = min(best, val)\n",
    "            b = min(b, best)\n",
    "\n",
    "            if b <= a:\n",
    "                break\n",
    "\n",
    "        return best"
   ]
  },
  {
   "cell_type": "code",
   "execution_count": 24,
   "outputs": [
    {
     "name": "stdout",
     "output_type": "stream",
     "text": [
      "20\n"
     ]
    }
   ],
   "source": [
    "print(max(10, 20, 5, 15))         # Output: 20"
   ],
   "metadata": {
    "collapsed": false,
    "ExecuteTime": {
     "end_time": "2023-07-29T07:40:18.202349800Z",
     "start_time": "2023-07-29T07:40:18.186782200Z"
    }
   }
  },
  {
   "cell_type": "code",
   "execution_count": 25,
   "metadata": {
    "colab": {
     "base_uri": "https://localhost:8080/",
     "height": 336
    },
    "id": "xRNXhl_VNb4a",
    "outputId": "c202d7e1-550a-4928-d23b-d11ee3a3a326",
    "ExecuteTime": {
     "end_time": "2023-07-29T07:40:19.309791800Z",
     "start_time": "2023-07-29T07:40:19.289872400Z"
    }
   },
   "outputs": [
    {
     "name": "stdout",
     "output_type": "stream",
     "text": [
      "Achieved point by applying alpha-beta pruning = 3\n",
      "The Winner is Megatron\n"
     ]
    }
   ],
   "source": [
    "points = a_b_prune(0,0,True,rand,alpha,beta)\n",
    "print('Achieved point by applying alpha-beta pruning =', points)\n",
    "\n",
    "if points >= winscore:\n",
    "    print(\"The Winner is Optimus Prime\")\n",
    "else:\n",
    "    print(\"The Winner is Megatron\")"
   ]
  },
  {
   "cell_type": "code",
   "execution_count": 26,
   "metadata": {
    "id": "YzWos5SNNyc6",
    "ExecuteTime": {
     "end_time": "2023-07-29T07:40:44.237545Z",
     "start_time": "2023-07-29T07:40:44.231788600Z"
    }
   },
   "outputs": [
    {
     "name": "stdout",
     "output_type": "stream",
     "text": [
      "After the shuffle\n",
      "List of all points values from each shuffle: [19, 8, 102, 107]\n",
      "The maximum value of all shuffles: 107\n",
      "Won 2 times out of 4 number of shuffles\n"
     ]
    }
   ],
   "source": [
    "c = 0\n",
    "points = []\n",
    "\n",
    "for i in range(shuffle):\n",
    "    rand = []\n",
    "    for j in range(0, 8):\n",
    "        rand.append(random.randint(minn, maxx))\n",
    "\n",
    "    newScore = a_b_prune(0, 0, True, rand, alpha, beta)\n",
    "    points.append(newScore)\n",
    "\n",
    "    if newScore >= winscore:\n",
    "        c += 1\n",
    "\n",
    "shuffMax = points[0]\n",
    "for i in points[1:]:\n",
    "    if i > shuffMax:\n",
    "        shuffMax = i\n",
    "\n",
    "print(\"After the shuffle\")\n",
    "print('List of all points values from each shuffle:', points)\n",
    "print('The maximum value of all shuffles:', shuffMax)\n",
    "print('Won', c, 'times out of', shuffle, 'number of shuffles')"
   ]
  },
  {
   "cell_type": "code",
   "execution_count": null,
   "outputs": [],
   "source": [],
   "metadata": {
    "collapsed": false
   }
  }
 ],
 "metadata": {
  "colab": {
   "provenance": []
  },
  "kernelspec": {
   "display_name": "Python 3 (ipykernel)",
   "language": "python",
   "name": "python3"
  },
  "language_info": {
   "codemirror_mode": {
    "name": "ipython",
    "version": 3
   },
   "file_extension": ".py",
   "mimetype": "text/x-python",
   "name": "python",
   "nbconvert_exporter": "python",
   "pygments_lexer": "ipython3",
   "version": "3.10.9"
  }
 },
 "nbformat": 4,
 "nbformat_minor": 1
}
